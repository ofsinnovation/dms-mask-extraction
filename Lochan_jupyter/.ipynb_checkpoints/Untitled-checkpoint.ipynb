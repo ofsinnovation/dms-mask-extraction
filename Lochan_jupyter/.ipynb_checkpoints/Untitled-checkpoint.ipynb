{
 "cells": [
  {
   "cell_type": "code",
   "execution_count": 1,
   "metadata": {},
   "outputs": [],
   "source": [
    "# using py37 virtual env for my reference\n",
    "%matplotlib inline\n",
    "import matplotlib\n",
    "import numpy as np\n",
    "import matplotlib.pyplot as plt\n",
    "from PIL import Image\n",
    "import io\n",
    "import os\n",
    "import base64\n",
    "# Imports the Google Cloud client library\n",
    "# [START vision_python_migration_import]\n",
    "#from google.cloud import vision\n",
    "#from google.cloud.vision import types"
   ]
  },
  {
   "cell_type": "code",
   "execution_count": 2,
   "metadata": {},
   "outputs": [],
   "source": [
    "def plots(ims, figsize=(12,6), rows=1, titles=None):\n",
    "    f = plt.figure(figsize=figsize)\n",
    "    for i in range(len(ims)):\n",
    "        sp = f.add_subplot(rows, len(ims)//rows, i+1)\n",
    "        sp.axis('Off')\n",
    "        if titles is not None: sp.set_title(titles[i], fontsize=16)\n",
    "        plt.imshow(ims[i])\n",
    "def plot_strips_with_title(title):\n",
    "    documents = list(parsed_image_dict['masks'].keys())\n",
    "    for document in documents:\n",
    "        if document in parsed_image_dict:\n",
    "            strips = parsed_image_dict[document]\n",
    "            imgs = [kyc_presenter._base64_to_numpy_array_(parsed_image_dict[document][strip]) for strip in strips]\n",
    "            strip_titles = [strip_name for strip_name in strips]\n",
    "            print(title)\n",
    "    return plots(imgs, rows=1, titles=strip_titles, figsize=(16,8))"
   ]
  },
  {
   "cell_type": "code",
   "execution_count": 5,
   "metadata": {},
   "outputs": [],
   "source": [
    "import all_in_one as demo\n",
    "kyc_presenter = demo.KYC()"
   ]
  },
  {
   "cell_type": "code",
   "execution_count": null,
   "metadata": {},
   "outputs": [],
   "source": []
  }
 ],
 "metadata": {
  "kernelspec": {
   "display_name": "Python (myenv)",
   "language": "python",
   "name": "py37"
  },
  "language_info": {
   "codemirror_mode": {
    "name": "ipython",
    "version": 3
   },
   "file_extension": ".py",
   "mimetype": "text/x-python",
   "name": "python",
   "nbconvert_exporter": "python",
   "pygments_lexer": "ipython3",
   "version": "3.7.3"
  }
 },
 "nbformat": 4,
 "nbformat_minor": 2
}
